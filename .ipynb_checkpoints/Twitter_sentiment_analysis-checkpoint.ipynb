{
 "cells": [
  {
   "cell_type": "code",
   "execution_count": 19,
   "id": "301b2a52",
   "metadata": {},
   "outputs": [],
   "source": [
    "import tensorflow as tf\n",
    "import pandas as pd\n",
    "import matplotlib.pyplot as plt\n",
    "from tensorflow import keras\n",
    "from tensorflow.keras.preprocessing.text import Tokenizer\n",
    "from tensorflow.keras.preprocessing.sequence import pad_sequences\n",
    "from sklearn.model_selection import train_test_split"
   ]
  },
  {
   "cell_type": "code",
   "execution_count": 18,
   "id": "f587c64f",
   "metadata": {},
   "outputs": [],
   "source": [
    "# Define text preprocessing parameters\n",
    "vocab_size = 10000 # Vocabulary size\n",
    "embedding_dim = 16 # Dimensionality of embedding vectors\n",
    "max_length = 100 # Maximum sequence length\n",
    "trunc_type='post' # Truncation type (post)\n",
    "padding_type='post' # Padding type (post)\n",
    "oov_tok = \"<OOV>\" # Token for unknown words"
   ]
  },
  {
   "cell_type": "code",
   "execution_count": 2,
   "id": "b17569b6",
   "metadata": {},
   "outputs": [
    {
     "data": {
      "text/html": [
       "<div>\n",
       "<style scoped>\n",
       "    .dataframe tbody tr th:only-of-type {\n",
       "        vertical-align: middle;\n",
       "    }\n",
       "\n",
       "    .dataframe tbody tr th {\n",
       "        vertical-align: top;\n",
       "    }\n",
       "\n",
       "    .dataframe thead th {\n",
       "        text-align: right;\n",
       "    }\n",
       "</style>\n",
       "<table border=\"1\" class=\"dataframe\">\n",
       "  <thead>\n",
       "    <tr style=\"text-align: right;\">\n",
       "      <th></th>\n",
       "      <th>2401</th>\n",
       "      <th>Borderlands</th>\n",
       "      <th>Positive</th>\n",
       "      <th>im getting on borderlands and i will murder you all ,</th>\n",
       "    </tr>\n",
       "  </thead>\n",
       "  <tbody>\n",
       "    <tr>\n",
       "      <th>0</th>\n",
       "      <td>2401</td>\n",
       "      <td>Borderlands</td>\n",
       "      <td>Positive</td>\n",
       "      <td>I am coming to the borders and I will kill you...</td>\n",
       "    </tr>\n",
       "    <tr>\n",
       "      <th>1</th>\n",
       "      <td>2401</td>\n",
       "      <td>Borderlands</td>\n",
       "      <td>Positive</td>\n",
       "      <td>im getting on borderlands and i will kill you ...</td>\n",
       "    </tr>\n",
       "    <tr>\n",
       "      <th>2</th>\n",
       "      <td>2401</td>\n",
       "      <td>Borderlands</td>\n",
       "      <td>Positive</td>\n",
       "      <td>im coming on borderlands and i will murder you...</td>\n",
       "    </tr>\n",
       "    <tr>\n",
       "      <th>3</th>\n",
       "      <td>2401</td>\n",
       "      <td>Borderlands</td>\n",
       "      <td>Positive</td>\n",
       "      <td>im getting on borderlands 2 and i will murder ...</td>\n",
       "    </tr>\n",
       "    <tr>\n",
       "      <th>4</th>\n",
       "      <td>2401</td>\n",
       "      <td>Borderlands</td>\n",
       "      <td>Positive</td>\n",
       "      <td>im getting into borderlands and i can murder y...</td>\n",
       "    </tr>\n",
       "  </tbody>\n",
       "</table>\n",
       "</div>"
      ],
      "text/plain": [
       "   2401  Borderlands  Positive  \\\n",
       "0  2401  Borderlands  Positive   \n",
       "1  2401  Borderlands  Positive   \n",
       "2  2401  Borderlands  Positive   \n",
       "3  2401  Borderlands  Positive   \n",
       "4  2401  Borderlands  Positive   \n",
       "\n",
       "  im getting on borderlands and i will murder you all ,  \n",
       "0  I am coming to the borders and I will kill you...     \n",
       "1  im getting on borderlands and i will kill you ...     \n",
       "2  im coming on borderlands and i will murder you...     \n",
       "3  im getting on borderlands 2 and i will murder ...     \n",
       "4  im getting into borderlands and i can murder y...     "
      ]
     },
     "execution_count": 2,
     "metadata": {},
     "output_type": "execute_result"
    }
   ],
   "source": [
    "# Load training data\n",
    "df_train = pd.read_csv('twitter_training.csv')\n",
    "df_train.head()"
   ]
  },
  {
   "cell_type": "code",
   "execution_count": 4,
   "id": "4c85ef65",
   "metadata": {},
   "outputs": [
    {
     "data": {
      "text/plain": [
       "Index(['id', 'Borderlands', 'Sentiment', 'Text'], dtype='object')"
      ]
     },
     "execution_count": 4,
     "metadata": {},
     "output_type": "execute_result"
    }
   ],
   "source": [
    "# Preprocess training data\n",
    "df_train.rename(columns={'2401':'id',\n",
    "                         'Positive': 'Sentiment',\n",
    "                         'im getting on borderlands and i will murder you all ,': 'Text'}, inplace=True)\n",
    "df_train.columns"
   ]
  },
  {
   "cell_type": "code",
   "execution_count": 3,
   "id": "ee394582",
   "metadata": {},
   "outputs": [
    {
     "data": {
      "text/html": [
       "<div>\n",
       "<style scoped>\n",
       "    .dataframe tbody tr th:only-of-type {\n",
       "        vertical-align: middle;\n",
       "    }\n",
       "\n",
       "    .dataframe tbody tr th {\n",
       "        vertical-align: top;\n",
       "    }\n",
       "\n",
       "    .dataframe thead th {\n",
       "        text-align: right;\n",
       "    }\n",
       "</style>\n",
       "<table border=\"1\" class=\"dataframe\">\n",
       "  <thead>\n",
       "    <tr style=\"text-align: right;\">\n",
       "      <th></th>\n",
       "      <th>3364</th>\n",
       "      <th>Facebook</th>\n",
       "      <th>Irrelevant</th>\n",
       "      <th>I mentioned on Facebook that I was struggling for motivation to go for a run the other day, which has been translated by Tom’s great auntie as ‘Hayley can’t get out of bed’ and told to his grandma, who now thinks I’m a lazy, terrible person 🤣</th>\n",
       "    </tr>\n",
       "  </thead>\n",
       "  <tbody>\n",
       "    <tr>\n",
       "      <th>0</th>\n",
       "      <td>352</td>\n",
       "      <td>Amazon</td>\n",
       "      <td>Neutral</td>\n",
       "      <td>BBC News - Amazon boss Jeff Bezos rejects clai...</td>\n",
       "    </tr>\n",
       "    <tr>\n",
       "      <th>1</th>\n",
       "      <td>8312</td>\n",
       "      <td>Microsoft</td>\n",
       "      <td>Negative</td>\n",
       "      <td>@Microsoft Why do I pay for WORD when it funct...</td>\n",
       "    </tr>\n",
       "    <tr>\n",
       "      <th>2</th>\n",
       "      <td>4371</td>\n",
       "      <td>CS-GO</td>\n",
       "      <td>Negative</td>\n",
       "      <td>CSGO matchmaking is so full of closet hacking,...</td>\n",
       "    </tr>\n",
       "    <tr>\n",
       "      <th>3</th>\n",
       "      <td>4433</td>\n",
       "      <td>Google</td>\n",
       "      <td>Neutral</td>\n",
       "      <td>Now the President is slapping Americans in the...</td>\n",
       "    </tr>\n",
       "    <tr>\n",
       "      <th>4</th>\n",
       "      <td>6273</td>\n",
       "      <td>FIFA</td>\n",
       "      <td>Negative</td>\n",
       "      <td>Hi @EAHelp I’ve had Madeleine McCann in my cel...</td>\n",
       "    </tr>\n",
       "  </tbody>\n",
       "</table>\n",
       "</div>"
      ],
      "text/plain": [
       "   3364   Facebook Irrelevant  \\\n",
       "0   352     Amazon    Neutral   \n",
       "1  8312  Microsoft   Negative   \n",
       "2  4371      CS-GO   Negative   \n",
       "3  4433     Google    Neutral   \n",
       "4  6273       FIFA   Negative   \n",
       "\n",
       "  I mentioned on Facebook that I was struggling for motivation to go for a run the other day, which has been translated by Tom’s great auntie as ‘Hayley can’t get out of bed’ and told to his grandma, who now thinks I’m a lazy, terrible person 🤣  \n",
       "0  BBC News - Amazon boss Jeff Bezos rejects clai...                                                                                                                                                                                                  \n",
       "1  @Microsoft Why do I pay for WORD when it funct...                                                                                                                                                                                                  \n",
       "2  CSGO matchmaking is so full of closet hacking,...                                                                                                                                                                                                  \n",
       "3  Now the President is slapping Americans in the...                                                                                                                                                                                                  \n",
       "4  Hi @EAHelp I’ve had Madeleine McCann in my cel...                                                                                                                                                                                                  "
      ]
     },
     "execution_count": 3,
     "metadata": {},
     "output_type": "execute_result"
    }
   ],
   "source": [
    "# Load testing data\n",
    "df_test = pd.read_csv('twitter_validation.csv')\n",
    "df_test.head()"
   ]
  },
  {
   "cell_type": "code",
   "execution_count": 5,
   "id": "b2f3fbf5",
   "metadata": {},
   "outputs": [
    {
     "data": {
      "text/plain": [
       "Index(['id', 'Facebook', 'Sentiment', 'Text'], dtype='object')"
      ]
     },
     "execution_count": 5,
     "metadata": {},
     "output_type": "execute_result"
    }
   ],
   "source": [
    "# Preprocess testing data\n",
    "df_test.rename(columns={'3364': 'id',\n",
    "                        'Irrelevant': 'Sentiment',\n",
    "                        'I mentioned on Facebook that I was struggling for motivation to go for a run the other day, which has been translated by Tom’s great auntie as ‘Hayley can’t get out of bed’ and told to his grandma, who now thinks I’m a lazy, terrible person 🤣': 'Text'}, \n",
    "               inplace=True)\n",
    "df_test.columns"
   ]
  },
  {
   "cell_type": "code",
   "execution_count": 7,
   "id": "3a31337f",
   "metadata": {},
   "outputs": [
    {
     "data": {
      "text/plain": [
       "array(['Neutral', 'Negative', 'Positive', 'Irrelevant'], dtype=object)"
      ]
     },
     "execution_count": 7,
     "metadata": {},
     "output_type": "execute_result"
    }
   ],
   "source": [
    "df_test.Sentiment.unique()"
   ]
  },
  {
   "cell_type": "code",
   "execution_count": 8,
   "id": "03b868a0",
   "metadata": {},
   "outputs": [],
   "source": [
    "# Convert sentiment labels to numerical values\n",
    "df_train['Sentiment'] = df_train['Sentiment'].replace({'Negative': 0, 'Neutral': 1, 'Positive': 2, 'Irrelevant': 3})\n",
    "df_test['Sentiment'] = df_test['Sentiment'].replace({'Negative': 0, 'Neutral': 1, 'Positive': 2, 'Irrelevant': 3})"
   ]
  },
  {
   "cell_type": "code",
   "execution_count": 15,
   "id": "f1f0d388",
   "metadata": {},
   "outputs": [],
   "source": [
    "# Drop rows with missing values\n",
    "df_train = df_train.dropna()"
   ]
  },
  {
   "cell_type": "code",
   "execution_count": 16,
   "id": "525777b5",
   "metadata": {},
   "outputs": [
    {
     "data": {
      "text/plain": [
       "id             0\n",
       "Borderlands    0\n",
       "Sentiment      0\n",
       "Text           0\n",
       "dtype: int64"
      ]
     },
     "execution_count": 16,
     "metadata": {},
     "output_type": "execute_result"
    }
   ],
   "source": [
    "df_train.isnull().sum()"
   ]
  },
  {
   "cell_type": "code",
   "execution_count": 12,
   "id": "6b194e11",
   "metadata": {},
   "outputs": [
    {
     "data": {
      "text/plain": [
       "id           0\n",
       "Facebook     0\n",
       "Sentiment    0\n",
       "Text         0\n",
       "dtype: int64"
      ]
     },
     "execution_count": 12,
     "metadata": {},
     "output_type": "execute_result"
    }
   ],
   "source": [
    "df_test.isnull().sum()"
   ]
  },
  {
   "cell_type": "code",
   "execution_count": 17,
   "id": "bb7d7f59",
   "metadata": {},
   "outputs": [],
   "source": [
    "training_sentences = df_train['Text']\n",
    "testing_sentences = df_test['Text']\n",
    "training_labels = df_train['Sentiment']\n",
    "testing_labels = df_test['Sentiment']"
   ]
  },
  {
   "cell_type": "code",
   "execution_count": 20,
   "id": "3967d630",
   "metadata": {},
   "outputs": [],
   "source": [
    "# Tokenization and sequence preprocessing\n",
    "tokenizer = Tokenizer(num_words=vocab_size, oov_token=oov_tok)\n",
    "tokenizer.fit_on_texts(training_sentences)\n",
    "\n",
    "word_index = tokenizer.word_index\n",
    "\n",
    "training_sequences = tokenizer.texts_to_sequences(training_sentences)\n",
    "training_padded = pad_sequences(training_sequences, maxlen=max_length, padding=padding_type, truncating=trunc_type)\n",
    "\n",
    "testing_sequences = tokenizer.texts_to_sequences(testing_sentences)\n",
    "testing_padded = pad_sequences(testing_sequences, maxlen=max_length, padding=padding_type, truncating=trunc_type)"
   ]
  },
  {
   "cell_type": "code",
   "execution_count": 27,
   "id": "f9325a27",
   "metadata": {},
   "outputs": [],
   "source": [
    "# Build the model\n",
    "model = tf.keras.Sequential([\n",
    "    keras.layers.Embedding(vocab_size, embedding_dim, input_length=max_length),\n",
    "    keras.layers.GlobalAveragePooling1D(), \n",
    "    keras.layers.Dense(24, activation='relu'),\n",
    "    keras.layers.Dense(4, activation='softmax')\n",
    "])\n",
    "model.compile(loss='sparse_categorical_crossentropy', optimizer='adam', metrics=['accuracy'])"
   ]
  },
  {
   "cell_type": "code",
   "execution_count": 28,
   "id": "f9d042c6",
   "metadata": {},
   "outputs": [
    {
     "name": "stdout",
     "output_type": "stream",
     "text": [
      "Model: \"sequential_2\"\n",
      "_________________________________________________________________\n",
      " Layer (type)                Output Shape              Param #   \n",
      "=================================================================\n",
      " embedding_2 (Embedding)     (None, 100, 16)           160000    \n",
      "                                                                 \n",
      " global_average_pooling1d_2  (None, 16)                0         \n",
      "  (GlobalAveragePooling1D)                                       \n",
      "                                                                 \n",
      " dense_4 (Dense)             (None, 24)                408       \n",
      "                                                                 \n",
      " dense_5 (Dense)             (None, 4)                 100       \n",
      "                                                                 \n",
      "=================================================================\n",
      "Total params: 160508 (626.98 KB)\n",
      "Trainable params: 160508 (626.98 KB)\n",
      "Non-trainable params: 0 (0.00 Byte)\n",
      "_________________________________________________________________\n"
     ]
    }
   ],
   "source": [
    "model.summary()"
   ]
  },
  {
   "cell_type": "code",
   "execution_count": 29,
   "id": "bb5b36f3",
   "metadata": {},
   "outputs": [
    {
     "name": "stdout",
     "output_type": "stream",
     "text": [
      "Epoch 1/30\n",
      "WARNING:tensorflow:From C:\\Users\\ulyaa\\anaconda3\\Lib\\site-packages\\keras\\src\\utils\\tf_utils.py:492: The name tf.ragged.RaggedTensorValue is deprecated. Please use tf.compat.v1.ragged.RaggedTensorValue instead.\n",
      "\n",
      "WARNING:tensorflow:From C:\\Users\\ulyaa\\anaconda3\\Lib\\site-packages\\keras\\src\\engine\\base_layer_utils.py:384: The name tf.executing_eagerly_outside_functions is deprecated. Please use tf.compat.v1.executing_eagerly_outside_functions instead.\n",
      "\n",
      "2313/2313 - 6s - loss: 1.2025 - accuracy: 0.4762 - val_loss: 0.9157 - val_accuracy: 0.6386 - 6s/epoch - 2ms/step\n",
      "Epoch 2/30\n",
      "2313/2313 - 6s - loss: 0.8598 - accuracy: 0.6628 - val_loss: 0.6335 - val_accuracy: 0.7668 - 6s/epoch - 2ms/step\n",
      "Epoch 3/30\n",
      "2313/2313 - 6s - loss: 0.6810 - accuracy: 0.7418 - val_loss: 0.4731 - val_accuracy: 0.8428 - 6s/epoch - 2ms/step\n",
      "Epoch 4/30\n",
      "2313/2313 - 6s - loss: 0.5726 - accuracy: 0.7864 - val_loss: 0.3817 - val_accuracy: 0.8709 - 6s/epoch - 2ms/step\n",
      "Epoch 5/30\n",
      "2313/2313 - 6s - loss: 0.5030 - accuracy: 0.8126 - val_loss: 0.3301 - val_accuracy: 0.8889 - 6s/epoch - 2ms/step\n",
      "Epoch 6/30\n",
      "2313/2313 - 6s - loss: 0.4572 - accuracy: 0.8294 - val_loss: 0.2865 - val_accuracy: 0.9129 - 6s/epoch - 2ms/step\n",
      "Epoch 7/30\n",
      "2313/2313 - 6s - loss: 0.4243 - accuracy: 0.8414 - val_loss: 0.2660 - val_accuracy: 0.9179 - 6s/epoch - 2ms/step\n",
      "Epoch 8/30\n",
      "2313/2313 - 6s - loss: 0.4020 - accuracy: 0.8499 - val_loss: 0.2477 - val_accuracy: 0.9269 - 6s/epoch - 2ms/step\n",
      "Epoch 9/30\n",
      "2313/2313 - 6s - loss: 0.3833 - accuracy: 0.8560 - val_loss: 0.2415 - val_accuracy: 0.9279 - 6s/epoch - 2ms/step\n",
      "Epoch 10/30\n",
      "2313/2313 - 5s - loss: 0.3708 - accuracy: 0.8601 - val_loss: 0.2312 - val_accuracy: 0.9359 - 5s/epoch - 2ms/step\n",
      "Epoch 11/30\n",
      "2313/2313 - 5s - loss: 0.3600 - accuracy: 0.8651 - val_loss: 0.2454 - val_accuracy: 0.9259 - 5s/epoch - 2ms/step\n",
      "Epoch 12/30\n",
      "2313/2313 - 5s - loss: 0.3495 - accuracy: 0.8680 - val_loss: 0.2445 - val_accuracy: 0.9249 - 5s/epoch - 2ms/step\n",
      "Epoch 13/30\n",
      "2313/2313 - 5s - loss: 0.3412 - accuracy: 0.8712 - val_loss: 0.2339 - val_accuracy: 0.9289 - 5s/epoch - 2ms/step\n",
      "Epoch 14/30\n",
      "2313/2313 - 5s - loss: 0.3355 - accuracy: 0.8743 - val_loss: 0.2375 - val_accuracy: 0.9289 - 5s/epoch - 2ms/step\n",
      "Epoch 15/30\n",
      "2313/2313 - 5s - loss: 0.3296 - accuracy: 0.8765 - val_loss: 0.2387 - val_accuracy: 0.9309 - 5s/epoch - 2ms/step\n",
      "Epoch 16/30\n",
      "2313/2313 - 5s - loss: 0.3236 - accuracy: 0.8782 - val_loss: 0.2389 - val_accuracy: 0.9299 - 5s/epoch - 2ms/step\n",
      "Epoch 17/30\n",
      "2313/2313 - 5s - loss: 0.3182 - accuracy: 0.8802 - val_loss: 0.2444 - val_accuracy: 0.9359 - 5s/epoch - 2ms/step\n",
      "Epoch 18/30\n",
      "2313/2313 - 5s - loss: 0.3141 - accuracy: 0.8815 - val_loss: 0.2622 - val_accuracy: 0.9259 - 5s/epoch - 2ms/step\n",
      "Epoch 19/30\n",
      "2313/2313 - 5s - loss: 0.3114 - accuracy: 0.8821 - val_loss: 0.2619 - val_accuracy: 0.9319 - 5s/epoch - 2ms/step\n",
      "Epoch 20/30\n",
      "2313/2313 - 5s - loss: 0.3084 - accuracy: 0.8838 - val_loss: 0.2731 - val_accuracy: 0.9259 - 5s/epoch - 2ms/step\n",
      "Epoch 21/30\n",
      "2313/2313 - 5s - loss: 0.3051 - accuracy: 0.8851 - val_loss: 0.2830 - val_accuracy: 0.9229 - 5s/epoch - 2ms/step\n",
      "Epoch 22/30\n",
      "2313/2313 - 5s - loss: 0.3022 - accuracy: 0.8855 - val_loss: 0.2692 - val_accuracy: 0.9319 - 5s/epoch - 2ms/step\n",
      "Epoch 23/30\n",
      "2313/2313 - 5s - loss: 0.3000 - accuracy: 0.8871 - val_loss: 0.2722 - val_accuracy: 0.9289 - 5s/epoch - 2ms/step\n",
      "Epoch 24/30\n",
      "2313/2313 - 5s - loss: 0.2967 - accuracy: 0.8888 - val_loss: 0.2863 - val_accuracy: 0.9339 - 5s/epoch - 2ms/step\n",
      "Epoch 25/30\n",
      "2313/2313 - 5s - loss: 0.2961 - accuracy: 0.8885 - val_loss: 0.2881 - val_accuracy: 0.9309 - 5s/epoch - 2ms/step\n",
      "Epoch 26/30\n",
      "2313/2313 - 5s - loss: 0.2930 - accuracy: 0.8900 - val_loss: 0.2746 - val_accuracy: 0.9339 - 5s/epoch - 2ms/step\n",
      "Epoch 27/30\n",
      "2313/2313 - 5s - loss: 0.2896 - accuracy: 0.8909 - val_loss: 0.2781 - val_accuracy: 0.9319 - 5s/epoch - 2ms/step\n",
      "Epoch 28/30\n",
      "2313/2313 - 5s - loss: 0.2881 - accuracy: 0.8909 - val_loss: 0.2841 - val_accuracy: 0.9329 - 5s/epoch - 2ms/step\n",
      "Epoch 29/30\n",
      "2313/2313 - 5s - loss: 0.2864 - accuracy: 0.8922 - val_loss: 0.2862 - val_accuracy: 0.9329 - 5s/epoch - 2ms/step\n",
      "Epoch 30/30\n",
      "2313/2313 - 5s - loss: 0.2859 - accuracy: 0.8928 - val_loss: 0.2940 - val_accuracy: 0.9309 - 5s/epoch - 2ms/step\n"
     ]
    }
   ],
   "source": [
    "# Train the model\n",
    "num_epochs = 30\n",
    "history = model.fit(training_padded, training_labels, epochs=num_epochs, \n",
    "                    validation_data=(testing_padded, testing_labels), verbose=2)"
   ]
  },
  {
   "cell_type": "code",
   "execution_count": 30,
   "id": "25bc3f20",
   "metadata": {},
   "outputs": [
    {
     "data": {
      "image/png": "[encoded data removed]",
      "text/plain": [
       "<Figure size 640x480 with 1 Axes>"
      ]
     },
     "metadata": {},
     "output_type": "display_data"
    },
    {
     "data": {
      "image/png": "[encoded data removed]",
      "text/plain": [
       "<Figure size 640x480 with 1 Axes>"
      ]
     },
     "metadata": {},
     "output_type": "display_data"
    }
   ],
   "source": [
    "# Visualize results\n",
    "def plot_graphs(history, string):\n",
    "  plt.plot(history.history[string])\n",
    "  plt.plot(history.history['val_'+string])\n",
    "  plt.xlabel(\"Epochs\")\n",
    "  plt.ylabel(string)\n",
    "  plt.legend([string, 'val_'+string])\n",
    "  plt.show()\n",
    "  \n",
    "plot_graphs(history, \"accuracy\")\n",
    "plot_graphs(history, \"loss\")"
   ]
  },
  {
   "cell_type": "code",
   "execution_count": 38,
   "id": "572d51f5",
   "metadata": {},
   "outputs": [
    {
     "name": "stdout",
     "output_type": "stream",
     "text": [
      "1/1 [==============================] - 0s 25ms/step\n",
      "[[0.04097648 0.05407685 0.84440714 0.06053955]\n",
      " [0.26866725 0.00296062 0.67651767 0.05185445]\n",
      " [0.9525449  0.00759461 0.0358509  0.00400956]\n",
      " [0.85306823 0.07391767 0.06083136 0.01218283]\n",
      " [0.00109357 0.06611297 0.9318323  0.00096113]]\n"
     ]
    }
   ],
   "source": [
    "# Prediction on new data\n",
    "sentence = ['great', 'normal', 'waste', 'trash', 'beauty']\n",
    "sequences = tokenizer.texts_to_sequences(sentence)\n",
    "padded = pad_sequences(sequences, maxlen=max_length, padding=padding_type, truncating=trunc_type)\n",
    "print(model.predict(padded))"
   ]
  },
  {
   "cell_type": "code",
   "execution_count": null,
   "id": "ff50749a",
   "metadata": {},
   "outputs": [],
   "source": []
  },
  {
   "cell_type": "code",
   "execution_count": null,
   "id": "c19a555b",
   "metadata": {},
   "outputs": [],
   "source": []
  },
  {
   "cell_type": "code",
   "execution_count": null,
   "id": "ff1b3946",
   "metadata": {},
   "outputs": [],
   "source": []
  }
 ],
 "metadata": {
  "kernelspec": {
   "display_name": "Python 3 (ipykernel)",
   "language": "python",
   "name": "python3"
  },
  "language_info": {
   "codemirror_mode": {
    "name": "ipython",
    "version": 3
   },
   "file_extension": ".py",
   "mimetype": "text/x-python",
   "name": "python",
   "nbconvert_exporter": "python",
   "pygments_lexer": "ipython3",
   "version": "3.11.5"
  }
 },
 "nbformat": 4,
 "nbformat_minor": 5
}
